{
  "nbformat": 4,
  "nbformat_minor": 0,
  "metadata": {
    "colab": {
      "name": "TopicModeling.ipynb",
      "provenance": [],
      "collapsed_sections": []
    },
    "kernelspec": {
      "name": "python3",
      "display_name": "Python 3"
    },
    "language_info": {
      "name": "python"
    }
  },
  "cells": [
    {
      "cell_type": "code",
      "source": [
        "import zipfile\n",
        "with zipfile.ZipFile(\"ru_translated.zip\",\"r\") as zip_ref:\n",
        "    zip_ref.extractall(\"targetdir\")"
      ],
      "metadata": {
        "id": "m6aN810NUJH3"
      },
      "execution_count": 27,
      "outputs": []
    },
    {
      "cell_type": "code",
      "source": [
        "zip_ref"
      ],
      "metadata": {
        "colab": {
          "base_uri": "https://localhost:8080/"
        },
        "id": "PzCAtnbHUOQd",
        "outputId": "a65d897c-d958-489e-96aa-36f4d5198b54"
      },
      "execution_count": 24,
      "outputs": [
        {
          "output_type": "execute_result",
          "data": {
            "text/plain": [
              "<zipfile.ZipFile [closed]>"
            ]
          },
          "metadata": {},
          "execution_count": 24
        }
      ]
    },
    {
      "cell_type": "code",
      "execution_count": 28,
      "metadata": {
        "id": "n_E8-X0_oGhk"
      },
      "outputs": [],
      "source": [
        "import pandas as pd\n",
        "#df = pd.read_csv('translated_russian.csv')\n",
        "df = pd.read_csv('targetdir/ru_translated.csv')"
      ]
    },
    {
      "cell_type": "code",
      "source": [
        "df.shape"
      ],
      "metadata": {
        "colab": {
          "base_uri": "https://localhost:8080/"
        },
        "id": "Y2b2y5uibYie",
        "outputId": "db99120e-5a98-4742-baba-9d7a70d282e1"
      },
      "execution_count": 29,
      "outputs": [
        {
          "output_type": "execute_result",
          "data": {
            "text/plain": [
              "(42195, 2)"
            ]
          },
          "metadata": {},
          "execution_count": 29
        }
      ]
    },
    {
      "cell_type": "code",
      "source": [
        "df.isna().sum()"
      ],
      "metadata": {
        "colab": {
          "base_uri": "https://localhost:8080/"
        },
        "id": "EQvu47DPbYp-",
        "outputId": "2698f4df-602e-409a-8050-25ce5e542345"
      },
      "execution_count": 30,
      "outputs": [
        {
          "output_type": "execute_result",
          "data": {
            "text/plain": [
              "Unnamed: 0    0\n",
              "text          0\n",
              "dtype: int64"
            ]
          },
          "metadata": {},
          "execution_count": 30
        }
      ]
    },
    {
      "cell_type": "code",
      "source": [
        ""
      ],
      "metadata": {
        "id": "CkLtkI_zbosr"
      },
      "execution_count": 3,
      "outputs": []
    },
    {
      "cell_type": "code",
      "source": [
        "from sklearn.decomposition import LatentDirichletAllocation\n",
        "from nltk.corpus import stopwords\n",
        "from sklearn.feature_extraction.text import CountVectorizer\n",
        "from collections import  Counter\n",
        "\n",
        "\n",
        "vectorizer = CountVectorizer(\n",
        "analyzer='word',       \n",
        "min_df=3,# minimum required occurences of a word \n",
        "stop_words='english',# remove stop words\n",
        "lowercase=True,# convert all words to lowercase\n",
        "token_pattern='[a-zA-Z0-9]{3,}',# num chars > 3\n",
        "max_features=5000,# max number of unique words\n",
        "                            )\n"
      ],
      "metadata": {
        "id": "nBO-rh5WoQ9w"
      },
      "execution_count": 31,
      "outputs": []
    },
    {
      "cell_type": "code",
      "source": [
        "df = df[df['text'].notna()]\n"
      ],
      "metadata": {
        "id": "cM0AGrrjbHYi"
      },
      "execution_count": 33,
      "outputs": []
    },
    {
      "cell_type": "code",
      "source": [
        "data_matrix = vectorizer.fit_transform(df.text)\n",
        "data_matrix"
      ],
      "metadata": {
        "colab": {
          "base_uri": "https://localhost:8080/"
        },
        "id": "0R09rb3joTHu",
        "outputId": "ce88a873-790f-4137-9c19-614ae4e3a54f"
      },
      "execution_count": 35,
      "outputs": [
        {
          "output_type": "execute_result",
          "data": {
            "text/plain": [
              "<42195x5000 sparse matrix of type '<class 'numpy.int64'>'\n",
              "\twith 475534 stored elements in Compressed Sparse Row format>"
            ]
          },
          "metadata": {},
          "execution_count": 35
        }
      ]
    },
    {
      "cell_type": "code",
      "source": [
        "df"
      ],
      "metadata": {
        "colab": {
          "base_uri": "https://localhost:8080/",
          "height": 423
        },
        "id": "wU1hQdCHJXng",
        "outputId": "c1dc1fda-4581-4dee-9734-ae98cffae2ec"
      },
      "execution_count": 36,
      "outputs": [
        {
          "output_type": "execute_result",
          "data": {
            "text/plain": [
              "       Unnamed: 0                                               text\n",
              "0               0  russian invasion in ukraine ukraine invasion k...\n",
              "1               1  russian surrender it makes no sense to die for...\n",
              "2               2  morgenshterh give me a kick durov why doesn't ...\n",
              "3               3  microdistrict danilovka explosion video danilo...\n",
              "4               4  kyiv ukraine ukraine do not plan to evacuate t...\n",
              "...           ...                                                ...\n",
              "42190       42190  the day of the full-scale invasion of Russian ...\n",
              "42191       42191  villagers help APU collect trophies russian uk...\n",
              "42192       42192  the day of the full-scale invasion of Russian ...\n",
              "42193       42193  under the butt an hour ago, our ace pilot shot...\n",
              "42194       42194     works APU ukraine ukrainewar ukrainerussianwar\n",
              "\n",
              "[42195 rows x 2 columns]"
            ],
            "text/html": [
              "\n",
              "  <div id=\"df-55825304-e80d-499c-b69d-018fb0b84d03\">\n",
              "    <div class=\"colab-df-container\">\n",
              "      <div>\n",
              "<style scoped>\n",
              "    .dataframe tbody tr th:only-of-type {\n",
              "        vertical-align: middle;\n",
              "    }\n",
              "\n",
              "    .dataframe tbody tr th {\n",
              "        vertical-align: top;\n",
              "    }\n",
              "\n",
              "    .dataframe thead th {\n",
              "        text-align: right;\n",
              "    }\n",
              "</style>\n",
              "<table border=\"1\" class=\"dataframe\">\n",
              "  <thead>\n",
              "    <tr style=\"text-align: right;\">\n",
              "      <th></th>\n",
              "      <th>Unnamed: 0</th>\n",
              "      <th>text</th>\n",
              "    </tr>\n",
              "  </thead>\n",
              "  <tbody>\n",
              "    <tr>\n",
              "      <th>0</th>\n",
              "      <td>0</td>\n",
              "      <td>russian invasion in ukraine ukraine invasion k...</td>\n",
              "    </tr>\n",
              "    <tr>\n",
              "      <th>1</th>\n",
              "      <td>1</td>\n",
              "      <td>russian surrender it makes no sense to die for...</td>\n",
              "    </tr>\n",
              "    <tr>\n",
              "      <th>2</th>\n",
              "      <td>2</td>\n",
              "      <td>morgenshterh give me a kick durov why doesn't ...</td>\n",
              "    </tr>\n",
              "    <tr>\n",
              "      <th>3</th>\n",
              "      <td>3</td>\n",
              "      <td>microdistrict danilovka explosion video danilo...</td>\n",
              "    </tr>\n",
              "    <tr>\n",
              "      <th>4</th>\n",
              "      <td>4</td>\n",
              "      <td>kyiv ukraine ukraine do not plan to evacuate t...</td>\n",
              "    </tr>\n",
              "    <tr>\n",
              "      <th>...</th>\n",
              "      <td>...</td>\n",
              "      <td>...</td>\n",
              "    </tr>\n",
              "    <tr>\n",
              "      <th>42190</th>\n",
              "      <td>42190</td>\n",
              "      <td>the day of the full-scale invasion of Russian ...</td>\n",
              "    </tr>\n",
              "    <tr>\n",
              "      <th>42191</th>\n",
              "      <td>42191</td>\n",
              "      <td>villagers help APU collect trophies russian uk...</td>\n",
              "    </tr>\n",
              "    <tr>\n",
              "      <th>42192</th>\n",
              "      <td>42192</td>\n",
              "      <td>the day of the full-scale invasion of Russian ...</td>\n",
              "    </tr>\n",
              "    <tr>\n",
              "      <th>42193</th>\n",
              "      <td>42193</td>\n",
              "      <td>under the butt an hour ago, our ace pilot shot...</td>\n",
              "    </tr>\n",
              "    <tr>\n",
              "      <th>42194</th>\n",
              "      <td>42194</td>\n",
              "      <td>works APU ukraine ukrainewar ukrainerussianwar</td>\n",
              "    </tr>\n",
              "  </tbody>\n",
              "</table>\n",
              "<p>42195 rows × 2 columns</p>\n",
              "</div>\n",
              "      <button class=\"colab-df-convert\" onclick=\"convertToInteractive('df-55825304-e80d-499c-b69d-018fb0b84d03')\"\n",
              "              title=\"Convert this dataframe to an interactive table.\"\n",
              "              style=\"display:none;\">\n",
              "        \n",
              "  <svg xmlns=\"http://www.w3.org/2000/svg\" height=\"24px\"viewBox=\"0 0 24 24\"\n",
              "       width=\"24px\">\n",
              "    <path d=\"M0 0h24v24H0V0z\" fill=\"none\"/>\n",
              "    <path d=\"M18.56 5.44l.94 2.06.94-2.06 2.06-.94-2.06-.94-.94-2.06-.94 2.06-2.06.94zm-11 1L8.5 8.5l.94-2.06 2.06-.94-2.06-.94L8.5 2.5l-.94 2.06-2.06.94zm10 10l.94 2.06.94-2.06 2.06-.94-2.06-.94-.94-2.06-.94 2.06-2.06.94z\"/><path d=\"M17.41 7.96l-1.37-1.37c-.4-.4-.92-.59-1.43-.59-.52 0-1.04.2-1.43.59L10.3 9.45l-7.72 7.72c-.78.78-.78 2.05 0 2.83L4 21.41c.39.39.9.59 1.41.59.51 0 1.02-.2 1.41-.59l7.78-7.78 2.81-2.81c.8-.78.8-2.07 0-2.86zM5.41 20L4 18.59l7.72-7.72 1.47 1.35L5.41 20z\"/>\n",
              "  </svg>\n",
              "      </button>\n",
              "      \n",
              "  <style>\n",
              "    .colab-df-container {\n",
              "      display:flex;\n",
              "      flex-wrap:wrap;\n",
              "      gap: 12px;\n",
              "    }\n",
              "\n",
              "    .colab-df-convert {\n",
              "      background-color: #E8F0FE;\n",
              "      border: none;\n",
              "      border-radius: 50%;\n",
              "      cursor: pointer;\n",
              "      display: none;\n",
              "      fill: #1967D2;\n",
              "      height: 32px;\n",
              "      padding: 0 0 0 0;\n",
              "      width: 32px;\n",
              "    }\n",
              "\n",
              "    .colab-df-convert:hover {\n",
              "      background-color: #E2EBFA;\n",
              "      box-shadow: 0px 1px 2px rgba(60, 64, 67, 0.3), 0px 1px 3px 1px rgba(60, 64, 67, 0.15);\n",
              "      fill: #174EA6;\n",
              "    }\n",
              "\n",
              "    [theme=dark] .colab-df-convert {\n",
              "      background-color: #3B4455;\n",
              "      fill: #D2E3FC;\n",
              "    }\n",
              "\n",
              "    [theme=dark] .colab-df-convert:hover {\n",
              "      background-color: #434B5C;\n",
              "      box-shadow: 0px 1px 3px 1px rgba(0, 0, 0, 0.15);\n",
              "      filter: drop-shadow(0px 1px 2px rgba(0, 0, 0, 0.3));\n",
              "      fill: #FFFFFF;\n",
              "    }\n",
              "  </style>\n",
              "\n",
              "      <script>\n",
              "        const buttonEl =\n",
              "          document.querySelector('#df-55825304-e80d-499c-b69d-018fb0b84d03 button.colab-df-convert');\n",
              "        buttonEl.style.display =\n",
              "          google.colab.kernel.accessAllowed ? 'block' : 'none';\n",
              "\n",
              "        async function convertToInteractive(key) {\n",
              "          const element = document.querySelector('#df-55825304-e80d-499c-b69d-018fb0b84d03');\n",
              "          const dataTable =\n",
              "            await google.colab.kernel.invokeFunction('convertToInteractive',\n",
              "                                                     [key], {});\n",
              "          if (!dataTable) return;\n",
              "\n",
              "          const docLinkHtml = 'Like what you see? Visit the ' +\n",
              "            '<a target=\"_blank\" href=https://colab.research.google.com/notebooks/data_table.ipynb>data table notebook</a>'\n",
              "            + ' to learn more about interactive tables.';\n",
              "          element.innerHTML = '';\n",
              "          dataTable['output_type'] = 'display_data';\n",
              "          await google.colab.output.renderOutput(dataTable, element);\n",
              "          const docLink = document.createElement('div');\n",
              "          docLink.innerHTML = docLinkHtml;\n",
              "          element.appendChild(docLink);\n",
              "        }\n",
              "      </script>\n",
              "    </div>\n",
              "  </div>\n",
              "  "
            ]
          },
          "metadata": {},
          "execution_count": 36
        }
      ]
    },
    {
      "cell_type": "code",
      "source": [
        "df.shape"
      ],
      "metadata": {
        "colab": {
          "base_uri": "https://localhost:8080/"
        },
        "id": "9nT3X0LSbTZr",
        "outputId": "ab2a0c1f-48fe-4010-e9e5-f6a2e041b1c7"
      },
      "execution_count": 37,
      "outputs": [
        {
          "output_type": "execute_result",
          "data": {
            "text/plain": [
              "(42195, 2)"
            ]
          },
          "metadata": {},
          "execution_count": 37
        }
      ]
    },
    {
      "cell_type": "code",
      "source": [
        "# I will use LDA to create topics along with the probability distribution for each word in our vocabulary for each topic\n",
        "lda_model = LatentDirichletAllocation(\n",
        "n_components=5, # Number of topics\n",
        "learning_method='online',\n",
        "random_state=20,       \n",
        "n_jobs = -1  # Use all available CPUs\n",
        "                                     )\n"
      ],
      "metadata": {
        "id": "wXNsSqrboVmk"
      },
      "execution_count": 42,
      "outputs": []
    },
    {
      "cell_type": "code",
      "source": [
        "lda_output = lda_model.fit_transform(data_matrix)"
      ],
      "metadata": {
        "id": "QvMw7G7hoZZV"
      },
      "execution_count": 43,
      "outputs": []
    },
    {
      "cell_type": "code",
      "source": [
        "lda_output"
      ],
      "metadata": {
        "colab": {
          "base_uri": "https://localhost:8080/"
        },
        "id": "lDCvQyx8obIF",
        "outputId": "71198002-1c8a-49d0-c007-47b2dd60f2ac"
      },
      "execution_count": 44,
      "outputs": [
        {
          "output_type": "execute_result",
          "data": {
            "text/plain": [
              "array([[0.62132702, 0.01829607, 0.20535831, 0.13652239, 0.0184962 ],\n",
              "       [0.84813064, 0.00690293, 0.0693344 , 0.00691878, 0.06871326],\n",
              "       [0.08194946, 0.08424428, 0.01333798, 0.13475594, 0.68571235],\n",
              "       ...,\n",
              "       [0.5552592 , 0.28853079, 0.06601536, 0.07756831, 0.01262633],\n",
              "       [0.27926521, 0.00838747, 0.23651872, 0.46745484, 0.00837376],\n",
              "       [0.43984344, 0.03381962, 0.45864358, 0.03389769, 0.03379567]])"
            ]
          },
          "metadata": {},
          "execution_count": 44
        }
      ]
    },
    {
      "cell_type": "code",
      "source": [
        "#  top 10 most frequent words from each topic that found by LDA\n",
        "import csv\n",
        "import warnings\n",
        "warnings.filterwarnings(\"ignore\", category=DeprecationWarning)\n",
        "warnings.filterwarnings(\"ignore\")\n",
        "for i,topic in enumerate(lda_model.components_):\n",
        "    print('Top 10 words for topic:',i)\n",
        "    print([vectorizer.get_feature_names()[i] for i in topic.argsort()[-10:]])\n",
        "    print('\\n')\n"
      ],
      "metadata": {
        "colab": {
          "base_uri": "https://localhost:8080/"
        },
        "id": "EchPJK7Zo8U1",
        "outputId": "6657385a-44b1-46c0-99c8-5751e3312415"
      },
      "execution_count": 45,
      "outputs": [
        {
          "output_type": "stream",
          "name": "stdout",
          "text": [
            "Top 10 words for topic: 0\n",
            "['ukrainerussianwar', 'don', 'stoprussia', 'stopputin', 'standwithukraine', 'stopputinnow', 'war', 'russia', 'putin', 'ukraine']\n",
            "\n",
            "\n",
            "Top 10 words for topic: 1\n",
            "['help', 'fuck', 'enemy', 'europe', 'odessa', 'destroyed', 'commander', 'tank', 'nikolaev', 'ukraine']\n",
            "\n",
            "\n",
            "Top 10 words for topic: 2\n",
            "['ukraine', 'forces', 'city', 'federation', 'kharkov', 'war', 'ukrainian', 'region', 'russiaukrainewar', 'russian']\n",
            "\n",
            "\n",
            "Top 10 words for topic: 3\n",
            "['kharkiv', 'russia', 'georgia', 'support', 'people', 'kyiv', 'war', 'russiaukrainewar', 'vsrf', 'ukraine']\n",
            "\n",
            "\n",
            "Top 10 words for topic: 4\n",
            "['putin', 'moscow', 'world', 'people', 'russian', 'war', 'russianukrainianwar', 'news', 'russia', 'ukraine']\n",
            "\n",
            "\n"
          ]
        }
      ]
    },
    {
      "cell_type": "markdown",
      "source": [
        "From the given topics found we can conclude that :\n",
        "\n",
        "Topic 0 Anti War Hashtags\n",
        "\n",
        "Topic 1 Ground Level Conflicts\n",
        "\n",
        "Topic 2 Kharkov Conflict\n",
        "\n",
        "Topic 3 Support Talk\n",
        "\n",
        "Topic 4 Media Reporting \n"
      ],
      "metadata": {
        "id": "hWO6JgQnwGUo"
      }
    },
    {
      "cell_type": "code",
      "source": [
        "df = df.drop(['TopicName'], axis = 1)"
      ],
      "metadata": {
        "id": "quif-yg6berK"
      },
      "execution_count": 54,
      "outputs": []
    },
    {
      "cell_type": "code",
      "source": [
        "# adding a new topic column in the dataframe based on the probability value, the suitable topic\n",
        "topic_values = lda_model.transform(data_matrix)\n",
        "df['TopicNum'] = topic_values.argmax(axis=1)\n",
        "df.head(3)"
      ],
      "metadata": {
        "colab": {
          "base_uri": "https://localhost:8080/",
          "height": 143
        },
        "id": "6wKjEixHsyy3",
        "outputId": "62426734-23a9-4b9a-cc87-173e4da81234"
      },
      "execution_count": 55,
      "outputs": [
        {
          "output_type": "execute_result",
          "data": {
            "text/plain": [
              "   Unnamed: 0                                               text  TopicNum\n",
              "0           0  russian invasion in ukraine ukraine invasion k...         0\n",
              "1           1  russian surrender it makes no sense to die for...         0\n",
              "2           2  morgenshterh give me a kick durov why doesn't ...         4"
            ],
            "text/html": [
              "\n",
              "  <div id=\"df-3b6ee85a-cdbb-4e17-b553-b8860774578e\">\n",
              "    <div class=\"colab-df-container\">\n",
              "      <div>\n",
              "<style scoped>\n",
              "    .dataframe tbody tr th:only-of-type {\n",
              "        vertical-align: middle;\n",
              "    }\n",
              "\n",
              "    .dataframe tbody tr th {\n",
              "        vertical-align: top;\n",
              "    }\n",
              "\n",
              "    .dataframe thead th {\n",
              "        text-align: right;\n",
              "    }\n",
              "</style>\n",
              "<table border=\"1\" class=\"dataframe\">\n",
              "  <thead>\n",
              "    <tr style=\"text-align: right;\">\n",
              "      <th></th>\n",
              "      <th>Unnamed: 0</th>\n",
              "      <th>text</th>\n",
              "      <th>TopicNum</th>\n",
              "    </tr>\n",
              "  </thead>\n",
              "  <tbody>\n",
              "    <tr>\n",
              "      <th>0</th>\n",
              "      <td>0</td>\n",
              "      <td>russian invasion in ukraine ukraine invasion k...</td>\n",
              "      <td>0</td>\n",
              "    </tr>\n",
              "    <tr>\n",
              "      <th>1</th>\n",
              "      <td>1</td>\n",
              "      <td>russian surrender it makes no sense to die for...</td>\n",
              "      <td>0</td>\n",
              "    </tr>\n",
              "    <tr>\n",
              "      <th>2</th>\n",
              "      <td>2</td>\n",
              "      <td>morgenshterh give me a kick durov why doesn't ...</td>\n",
              "      <td>4</td>\n",
              "    </tr>\n",
              "  </tbody>\n",
              "</table>\n",
              "</div>\n",
              "      <button class=\"colab-df-convert\" onclick=\"convertToInteractive('df-3b6ee85a-cdbb-4e17-b553-b8860774578e')\"\n",
              "              title=\"Convert this dataframe to an interactive table.\"\n",
              "              style=\"display:none;\">\n",
              "        \n",
              "  <svg xmlns=\"http://www.w3.org/2000/svg\" height=\"24px\"viewBox=\"0 0 24 24\"\n",
              "       width=\"24px\">\n",
              "    <path d=\"M0 0h24v24H0V0z\" fill=\"none\"/>\n",
              "    <path d=\"M18.56 5.44l.94 2.06.94-2.06 2.06-.94-2.06-.94-.94-2.06-.94 2.06-2.06.94zm-11 1L8.5 8.5l.94-2.06 2.06-.94-2.06-.94L8.5 2.5l-.94 2.06-2.06.94zm10 10l.94 2.06.94-2.06 2.06-.94-2.06-.94-.94-2.06-.94 2.06-2.06.94z\"/><path d=\"M17.41 7.96l-1.37-1.37c-.4-.4-.92-.59-1.43-.59-.52 0-1.04.2-1.43.59L10.3 9.45l-7.72 7.72c-.78.78-.78 2.05 0 2.83L4 21.41c.39.39.9.59 1.41.59.51 0 1.02-.2 1.41-.59l7.78-7.78 2.81-2.81c.8-.78.8-2.07 0-2.86zM5.41 20L4 18.59l7.72-7.72 1.47 1.35L5.41 20z\"/>\n",
              "  </svg>\n",
              "      </button>\n",
              "      \n",
              "  <style>\n",
              "    .colab-df-container {\n",
              "      display:flex;\n",
              "      flex-wrap:wrap;\n",
              "      gap: 12px;\n",
              "    }\n",
              "\n",
              "    .colab-df-convert {\n",
              "      background-color: #E8F0FE;\n",
              "      border: none;\n",
              "      border-radius: 50%;\n",
              "      cursor: pointer;\n",
              "      display: none;\n",
              "      fill: #1967D2;\n",
              "      height: 32px;\n",
              "      padding: 0 0 0 0;\n",
              "      width: 32px;\n",
              "    }\n",
              "\n",
              "    .colab-df-convert:hover {\n",
              "      background-color: #E2EBFA;\n",
              "      box-shadow: 0px 1px 2px rgba(60, 64, 67, 0.3), 0px 1px 3px 1px rgba(60, 64, 67, 0.15);\n",
              "      fill: #174EA6;\n",
              "    }\n",
              "\n",
              "    [theme=dark] .colab-df-convert {\n",
              "      background-color: #3B4455;\n",
              "      fill: #D2E3FC;\n",
              "    }\n",
              "\n",
              "    [theme=dark] .colab-df-convert:hover {\n",
              "      background-color: #434B5C;\n",
              "      box-shadow: 0px 1px 3px 1px rgba(0, 0, 0, 0.15);\n",
              "      filter: drop-shadow(0px 1px 2px rgba(0, 0, 0, 0.3));\n",
              "      fill: #FFFFFF;\n",
              "    }\n",
              "  </style>\n",
              "\n",
              "      <script>\n",
              "        const buttonEl =\n",
              "          document.querySelector('#df-3b6ee85a-cdbb-4e17-b553-b8860774578e button.colab-df-convert');\n",
              "        buttonEl.style.display =\n",
              "          google.colab.kernel.accessAllowed ? 'block' : 'none';\n",
              "\n",
              "        async function convertToInteractive(key) {\n",
              "          const element = document.querySelector('#df-3b6ee85a-cdbb-4e17-b553-b8860774578e');\n",
              "          const dataTable =\n",
              "            await google.colab.kernel.invokeFunction('convertToInteractive',\n",
              "                                                     [key], {});\n",
              "          if (!dataTable) return;\n",
              "\n",
              "          const docLinkHtml = 'Like what you see? Visit the ' +\n",
              "            '<a target=\"_blank\" href=https://colab.research.google.com/notebooks/data_table.ipynb>data table notebook</a>'\n",
              "            + ' to learn more about interactive tables.';\n",
              "          element.innerHTML = '';\n",
              "          dataTable['output_type'] = 'display_data';\n",
              "          await google.colab.output.renderOutput(dataTable, element);\n",
              "          const docLink = document.createElement('div');\n",
              "          docLink.innerHTML = docLinkHtml;\n",
              "          element.appendChild(docLink);\n",
              "        }\n",
              "      </script>\n",
              "    </div>\n",
              "  </div>\n",
              "  "
            ]
          },
          "metadata": {},
          "execution_count": 55
        }
      ]
    },
    {
      "cell_type": "code",
      "source": [
        "df.loc[df[\"TopicNum\"] == 0, \"TopicName\"] = 'Anti War Hashtags'\n",
        "df.loc[df[\"TopicNum\"] == 1, \"TopicName\"] = 'Ground Level Conflicts'\n",
        "df.loc[df[\"TopicNum\"] == 2, \"TopicName\"] = 'Kharkov Conflict'\n",
        "df.loc[df[\"TopicNum\"] == 3, \"TopicName\"] = 'Support Talk'\n",
        "df.loc[df[\"TopicNum\"] == 4, \"TopicName\"] = 'Media Reporting'\n"
      ],
      "metadata": {
        "id": "SED4kat6zB-D"
      },
      "execution_count": 52,
      "outputs": []
    },
    {
      "cell_type": "code",
      "source": [
        "df.head(10)"
      ],
      "metadata": {
        "colab": {
          "base_uri": "https://localhost:8080/",
          "height": 363
        },
        "id": "ewqJhsaMzI00",
        "outputId": "62c11595-b4ca-4991-a11c-50237ad87a83"
      },
      "execution_count": 53,
      "outputs": [
        {
          "output_type": "execute_result",
          "data": {
            "text/plain": [
              "   Unnamed: 0                                               text  TopicNum  \\\n",
              "0           0  russian invasion in ukraine ukraine invasion k...         0   \n",
              "1           1  russian surrender it makes no sense to die for...         0   \n",
              "2           2  morgenshterh give me a kick durov why doesn't ...         4   \n",
              "3           3  microdistrict danilovka explosion video danilo...         0   \n",
              "4           4  kyiv ukraine ukraine do not plan to evacuate t...         3   \n",
              "5           5  if, after the last nights of defense, someone ...         0   \n",
              "6           6  belarus ukraine russia the blow is aimed at th...         4   \n",
              "7           7  I know it’s hard to accept it all, but underst...         0   \n",
              "8           8  this is the attitude to war that the whole wor...         0   \n",
              "9           9  anonymous group directly appealed to Putin ukr...         0   \n",
              "\n",
              "           TopicName  \n",
              "0  Anti War Hashtags  \n",
              "1  Anti War Hashtags  \n",
              "2    Media Reporting  \n",
              "3  Anti War Hashtags  \n",
              "4       Support Talk  \n",
              "5  Anti War Hashtags  \n",
              "6    Media Reporting  \n",
              "7  Anti War Hashtags  \n",
              "8  Anti War Hashtags  \n",
              "9  Anti War Hashtags  "
            ],
            "text/html": [
              "\n",
              "  <div id=\"df-26cb8e49-1c06-4e09-8934-323a72944ad1\">\n",
              "    <div class=\"colab-df-container\">\n",
              "      <div>\n",
              "<style scoped>\n",
              "    .dataframe tbody tr th:only-of-type {\n",
              "        vertical-align: middle;\n",
              "    }\n",
              "\n",
              "    .dataframe tbody tr th {\n",
              "        vertical-align: top;\n",
              "    }\n",
              "\n",
              "    .dataframe thead th {\n",
              "        text-align: right;\n",
              "    }\n",
              "</style>\n",
              "<table border=\"1\" class=\"dataframe\">\n",
              "  <thead>\n",
              "    <tr style=\"text-align: right;\">\n",
              "      <th></th>\n",
              "      <th>Unnamed: 0</th>\n",
              "      <th>text</th>\n",
              "      <th>TopicNum</th>\n",
              "      <th>TopicName</th>\n",
              "    </tr>\n",
              "  </thead>\n",
              "  <tbody>\n",
              "    <tr>\n",
              "      <th>0</th>\n",
              "      <td>0</td>\n",
              "      <td>russian invasion in ukraine ukraine invasion k...</td>\n",
              "      <td>0</td>\n",
              "      <td>Anti War Hashtags</td>\n",
              "    </tr>\n",
              "    <tr>\n",
              "      <th>1</th>\n",
              "      <td>1</td>\n",
              "      <td>russian surrender it makes no sense to die for...</td>\n",
              "      <td>0</td>\n",
              "      <td>Anti War Hashtags</td>\n",
              "    </tr>\n",
              "    <tr>\n",
              "      <th>2</th>\n",
              "      <td>2</td>\n",
              "      <td>morgenshterh give me a kick durov why doesn't ...</td>\n",
              "      <td>4</td>\n",
              "      <td>Media Reporting</td>\n",
              "    </tr>\n",
              "    <tr>\n",
              "      <th>3</th>\n",
              "      <td>3</td>\n",
              "      <td>microdistrict danilovka explosion video danilo...</td>\n",
              "      <td>0</td>\n",
              "      <td>Anti War Hashtags</td>\n",
              "    </tr>\n",
              "    <tr>\n",
              "      <th>4</th>\n",
              "      <td>4</td>\n",
              "      <td>kyiv ukraine ukraine do not plan to evacuate t...</td>\n",
              "      <td>3</td>\n",
              "      <td>Support Talk</td>\n",
              "    </tr>\n",
              "    <tr>\n",
              "      <th>5</th>\n",
              "      <td>5</td>\n",
              "      <td>if, after the last nights of defense, someone ...</td>\n",
              "      <td>0</td>\n",
              "      <td>Anti War Hashtags</td>\n",
              "    </tr>\n",
              "    <tr>\n",
              "      <th>6</th>\n",
              "      <td>6</td>\n",
              "      <td>belarus ukraine russia the blow is aimed at th...</td>\n",
              "      <td>4</td>\n",
              "      <td>Media Reporting</td>\n",
              "    </tr>\n",
              "    <tr>\n",
              "      <th>7</th>\n",
              "      <td>7</td>\n",
              "      <td>I know it’s hard to accept it all, but underst...</td>\n",
              "      <td>0</td>\n",
              "      <td>Anti War Hashtags</td>\n",
              "    </tr>\n",
              "    <tr>\n",
              "      <th>8</th>\n",
              "      <td>8</td>\n",
              "      <td>this is the attitude to war that the whole wor...</td>\n",
              "      <td>0</td>\n",
              "      <td>Anti War Hashtags</td>\n",
              "    </tr>\n",
              "    <tr>\n",
              "      <th>9</th>\n",
              "      <td>9</td>\n",
              "      <td>anonymous group directly appealed to Putin ukr...</td>\n",
              "      <td>0</td>\n",
              "      <td>Anti War Hashtags</td>\n",
              "    </tr>\n",
              "  </tbody>\n",
              "</table>\n",
              "</div>\n",
              "      <button class=\"colab-df-convert\" onclick=\"convertToInteractive('df-26cb8e49-1c06-4e09-8934-323a72944ad1')\"\n",
              "              title=\"Convert this dataframe to an interactive table.\"\n",
              "              style=\"display:none;\">\n",
              "        \n",
              "  <svg xmlns=\"http://www.w3.org/2000/svg\" height=\"24px\"viewBox=\"0 0 24 24\"\n",
              "       width=\"24px\">\n",
              "    <path d=\"M0 0h24v24H0V0z\" fill=\"none\"/>\n",
              "    <path d=\"M18.56 5.44l.94 2.06.94-2.06 2.06-.94-2.06-.94-.94-2.06-.94 2.06-2.06.94zm-11 1L8.5 8.5l.94-2.06 2.06-.94-2.06-.94L8.5 2.5l-.94 2.06-2.06.94zm10 10l.94 2.06.94-2.06 2.06-.94-2.06-.94-.94-2.06-.94 2.06-2.06.94z\"/><path d=\"M17.41 7.96l-1.37-1.37c-.4-.4-.92-.59-1.43-.59-.52 0-1.04.2-1.43.59L10.3 9.45l-7.72 7.72c-.78.78-.78 2.05 0 2.83L4 21.41c.39.39.9.59 1.41.59.51 0 1.02-.2 1.41-.59l7.78-7.78 2.81-2.81c.8-.78.8-2.07 0-2.86zM5.41 20L4 18.59l7.72-7.72 1.47 1.35L5.41 20z\"/>\n",
              "  </svg>\n",
              "      </button>\n",
              "      \n",
              "  <style>\n",
              "    .colab-df-container {\n",
              "      display:flex;\n",
              "      flex-wrap:wrap;\n",
              "      gap: 12px;\n",
              "    }\n",
              "\n",
              "    .colab-df-convert {\n",
              "      background-color: #E8F0FE;\n",
              "      border: none;\n",
              "      border-radius: 50%;\n",
              "      cursor: pointer;\n",
              "      display: none;\n",
              "      fill: #1967D2;\n",
              "      height: 32px;\n",
              "      padding: 0 0 0 0;\n",
              "      width: 32px;\n",
              "    }\n",
              "\n",
              "    .colab-df-convert:hover {\n",
              "      background-color: #E2EBFA;\n",
              "      box-shadow: 0px 1px 2px rgba(60, 64, 67, 0.3), 0px 1px 3px 1px rgba(60, 64, 67, 0.15);\n",
              "      fill: #174EA6;\n",
              "    }\n",
              "\n",
              "    [theme=dark] .colab-df-convert {\n",
              "      background-color: #3B4455;\n",
              "      fill: #D2E3FC;\n",
              "    }\n",
              "\n",
              "    [theme=dark] .colab-df-convert:hover {\n",
              "      background-color: #434B5C;\n",
              "      box-shadow: 0px 1px 3px 1px rgba(0, 0, 0, 0.15);\n",
              "      filter: drop-shadow(0px 1px 2px rgba(0, 0, 0, 0.3));\n",
              "      fill: #FFFFFF;\n",
              "    }\n",
              "  </style>\n",
              "\n",
              "      <script>\n",
              "        const buttonEl =\n",
              "          document.querySelector('#df-26cb8e49-1c06-4e09-8934-323a72944ad1 button.colab-df-convert');\n",
              "        buttonEl.style.display =\n",
              "          google.colab.kernel.accessAllowed ? 'block' : 'none';\n",
              "\n",
              "        async function convertToInteractive(key) {\n",
              "          const element = document.querySelector('#df-26cb8e49-1c06-4e09-8934-323a72944ad1');\n",
              "          const dataTable =\n",
              "            await google.colab.kernel.invokeFunction('convertToInteractive',\n",
              "                                                     [key], {});\n",
              "          if (!dataTable) return;\n",
              "\n",
              "          const docLinkHtml = 'Like what you see? Visit the ' +\n",
              "            '<a target=\"_blank\" href=https://colab.research.google.com/notebooks/data_table.ipynb>data table notebook</a>'\n",
              "            + ' to learn more about interactive tables.';\n",
              "          element.innerHTML = '';\n",
              "          dataTable['output_type'] = 'display_data';\n",
              "          await google.colab.output.renderOutput(dataTable, element);\n",
              "          const docLink = document.createElement('div');\n",
              "          docLink.innerHTML = docLinkHtml;\n",
              "          element.appendChild(docLink);\n",
              "        }\n",
              "      </script>\n",
              "    </div>\n",
              "  </div>\n",
              "  "
            ]
          },
          "metadata": {},
          "execution_count": 53
        }
      ]
    }
  ]
}