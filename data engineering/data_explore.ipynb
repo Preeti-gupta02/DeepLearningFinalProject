{
 "cells": [
  {
   "cell_type": "code",
   "execution_count": 7,
   "id": "9a0b2873-029b-4ad3-bb7b-67b210d0fcdb",
   "metadata": {},
   "outputs": [],
   "source": [
    "import numpy as np\n",
    "import pandas as pd\n",
    "from os import listdir\n",
    "from os.path import isfile, join"
   ]
  },
  {
   "cell_type": "code",
   "execution_count": 5,
   "id": "009cf272-4f48-4a50-a42b-d36e39d39cc5",
   "metadata": {},
   "outputs": [],
   "source": [
    "%config Completer.use_jedi = False"
   ]
  },
  {
   "cell_type": "markdown",
   "id": "3b02b0d7-8f26-42ee-97cf-d373066ba9d1",
   "metadata": {},
   "source": [
    "## Feature exploration"
   ]
  },
  {
   "cell_type": "code",
   "execution_count": 15,
   "id": "44d250d0-f4a1-43df-b5d7-2db24dab4dd9",
   "metadata": {},
   "outputs": [
    {
     "name": "stdout",
     "output_type": "stream",
     "text": [
      "Your current directory: /Users/joshloesch/school/spring2022/intro_deep_learning/DeepLearningFinalProject\n"
     ]
    }
   ],
   "source": [
    "curr_dir = os.getcwd()\n",
    "print(f\"Your current directory: {curr_dir}\")\n",
    "\n",
    "\n",
    "path = \"data/\"\n",
    "files = [file for file in listdir(path) if isfile(join(path, file))]"
   ]
  },
  {
   "cell_type": "code",
   "execution_count": 16,
   "id": "1f6119df-18d7-45cf-9e62-4e87a8b6427a",
   "metadata": {
    "collapsed": true,
    "jupyter": {
     "outputs_hidden": true
    },
    "tags": []
   },
   "outputs": [
    {
     "name": "stdout",
     "output_type": "stream",
     "text": [
      "UkraineCombinedTweetsDeduped_MAR05.csv.gzip\n",
      "UkraineCombinedTweetsDeduped_MAR04.csv.gzip\n",
      "UkraineCombinedTweetsDeduped_FEB27.csv.gzip\n",
      "UkraineCombinedTweetsDeduped_FEB28_part1.csv.gzip\n",
      "UkraineCombinedTweetsDeduped_MAR02.csv.gzip\n",
      "UkraineCombinedTweetsDeduped_MAR03.csv.gzip\n",
      "UkraineCombinedTweetsDeduped20220227-131611.csv.gzip\n",
      "UkraineCombinedTweetsDeduped_MAR06.csv.gzip\n",
      "UkraineCombinedTweetsDeduped_MAR01.csv.gzip\n",
      "UkraineCombinedTweetsDeduped_FEB28_part2.csv.gzip\n"
     ]
    }
   ],
   "source": [
    "# all files in the data folder\n",
    "for file in files:\n",
    "    print(file)"
   ]
  },
  {
   "cell_type": "code",
   "execution_count": 28,
   "id": "8fb90fa0-6efe-443d-ab03-6523eb9165b0",
   "metadata": {},
   "outputs": [],
   "source": [
    "\"\"\"\n",
    "Extract csv files\n",
    "\"\"\"\n",
    "\n",
    "import gzip\n",
    "import shutil\n",
    "import re\n",
    "\n",
    "name_pattern = r\"^[A-Za-z0-9\\_\\-]+\"\n",
    "\n",
    "path = os.getcwd() + \"/data/\"\n",
    "\n",
    "for file in files:\n",
    "   with gzip.open(path + file, \"rt\") as f_in:\n",
    "    match = re.findall(name_pattern, file)[0]\n",
    "    data = f_in.read()\n",
    "    with open(path + \"/csv/\" + match + \".csv\", \"wt+\") as f_out:\n",
    "        f_out.write(data)"
   ]
  },
  {
   "cell_type": "code",
   "execution_count": null,
   "id": "9c69af77-4d06-4ccd-9fae-7e9ce3e4789f",
   "metadata": {},
   "outputs": [],
   "source": []
  }
 ],
 "metadata": {
  "kernelspec": {
   "display_name": "pytorch-3.8",
   "language": "python",
   "name": "pytorch"
  },
  "language_info": {
   "codemirror_mode": {
    "name": "ipython",
    "version": 3
   },
   "file_extension": ".py",
   "mimetype": "text/x-python",
   "name": "python",
   "nbconvert_exporter": "python",
   "pygments_lexer": "ipython3",
   "version": "3.8.8"
  }
 },
 "nbformat": 4,
 "nbformat_minor": 5
}
