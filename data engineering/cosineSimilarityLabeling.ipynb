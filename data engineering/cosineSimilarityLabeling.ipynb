{
 "cells": [
  {
   "cell_type": "code",
   "execution_count": 1,
   "metadata": {},
   "outputs": [],
   "source": [
    "from zipfile import ZipFile\n",
    "import pandas as pd\n",
    "import csv\n",
    "\n",
    "path = '../data/ru_translated.zip'\n",
    "zf = ZipFile(path)\n",
    "translated = pd.read_csv(zf.open('ru_translated.csv'), index_col=0,encoding='utf-8', quoting=csv.QUOTE_ALL)"
   ]
  },
  {
   "cell_type": "code",
   "execution_count": 4,
   "metadata": {},
   "outputs": [
    {
     "data": {
      "text/html": [
       "<div>\n",
       "<style scoped>\n",
       "    .dataframe tbody tr th:only-of-type {\n",
       "        vertical-align: middle;\n",
       "    }\n",
       "\n",
       "    .dataframe tbody tr th {\n",
       "        vertical-align: top;\n",
       "    }\n",
       "\n",
       "    .dataframe thead th {\n",
       "        text-align: right;\n",
       "    }\n",
       "</style>\n",
       "<table border=\"1\" class=\"dataframe\">\n",
       "  <thead>\n",
       "    <tr style=\"text-align: right;\">\n",
       "      <th></th>\n",
       "      <th>sentence_a</th>\n",
       "      <th>sentence_b</th>\n",
       "      <th>similarity</th>\n",
       "    </tr>\n",
       "  </thead>\n",
       "  <tbody>\n",
       "    <tr>\n",
       "      <th>0</th>\n",
       "      <td>All glory to ukrain, russia will lose the war!</td>\n",
       "      <td>Victory, win, victorious</td>\n",
       "      <td>0.518986</td>\n",
       "    </tr>\n",
       "  </tbody>\n",
       "</table>\n",
       "</div>"
      ],
      "text/plain": [
       "                                       sentence_a                sentence_b  \\\n",
       "0  All glory to ukrain, russia will lose the war!  Victory, win, victorious   \n",
       "\n",
       "   similarity  \n",
       "0    0.518986  "
      ]
     },
     "execution_count": 4,
     "metadata": {},
     "output_type": "execute_result"
    }
   ],
   "source": [
    "import pandas as pd\n",
    "import numpy as np\n",
    "import string\n",
    "import itertools\n",
    "import spacy\n",
    "\n",
    "def clean_text(sentence):\n",
    "    \n",
    "    clean_sentence = \"\".join(l for l in sentence if l not in string.punctuation)\n",
    "    \n",
    "    return clean_sentence\n",
    "\n",
    "def cosine_similarity_calc(vec_1,vec_2):\n",
    "    sim = np.dot(vec_1,vec_2)/(np.linalg.norm(vec_1)*np.linalg.norm(vec_2))\n",
    "    return sim\n",
    "\n",
    "def embeddings_similarity(sentences):\n",
    "    \n",
    "    # first we need to get data into | sentence_a | sentence_b | format\n",
    "    sentence_pairs = list(itertools.combinations(sentences, 2))\n",
    "    \n",
    "    sentence_a = [pair[0] for pair in sentence_pairs]\n",
    "    sentence_b = [pair[1] for pair in sentence_pairs]\n",
    "    \n",
    "    sentence_pairs_df = pd.DataFrame({'sentence_a':sentence_a, 'sentence_b':sentence_b})\n",
    "    \n",
    "    # get unique combinations of sentance_a and sentance_b\n",
    "    sentence_pairs_df = sentence_pairs_df.loc[\n",
    "        pd.DataFrame(\n",
    "            np.sort(sentence_pairs_df[['sentence_a', 'sentence_b']],1),\n",
    "            index=sentence_pairs_df.index\n",
    "        ).drop_duplicates(keep='first').index\n",
    "    ]\n",
    "\n",
    "    # remove instances where sentence a == sentence b\n",
    "    sentence_pairs_df = sentence_pairs_df[sentence_pairs_df['sentence_a'] != sentence_pairs_df['sentence_b']]\n",
    "    \n",
    "    # load word embeddings (will use these to convert sentence to vectors)\n",
    "    embeddings = spacy.load('en_core_web_lg')\n",
    "    \n",
    "    # now we are ready to calculate the similarity\n",
    "    sentence_pairs_df['similarity'] = sentence_pairs_df.apply(\n",
    "        lambda row: cosine_similarity_calc(\n",
    "            embeddings(clean_text(row['sentence_a'])).vector, \n",
    "            embeddings(clean_text(row['sentence_b'])).vector),\n",
    "        axis=1\n",
    "    )\n",
    "    \n",
    "    return sentence_pairs_df\n",
    "\n",
    "# calculate similarity for sample sentences\n",
    "sentences = ['All glory to ukrain, russia will lose the war!', 'Victory, win, victorious']\n",
    "embeddings_similarity(sentences=sentences)"
   ]
  },
  {
   "cell_type": "code",
   "execution_count": 5,
   "metadata": {},
   "outputs": [
    {
     "data": {
      "text/html": [
       "<div>\n",
       "<style scoped>\n",
       "    .dataframe tbody tr th:only-of-type {\n",
       "        vertical-align: middle;\n",
       "    }\n",
       "\n",
       "    .dataframe tbody tr th {\n",
       "        vertical-align: top;\n",
       "    }\n",
       "\n",
       "    .dataframe thead th {\n",
       "        text-align: right;\n",
       "    }\n",
       "</style>\n",
       "<table border=\"1\" class=\"dataframe\">\n",
       "  <thead>\n",
       "    <tr style=\"text-align: right;\">\n",
       "      <th></th>\n",
       "      <th>sentence_a</th>\n",
       "      <th>sentence_b</th>\n",
       "      <th>similarity</th>\n",
       "    </tr>\n",
       "  </thead>\n",
       "  <tbody>\n",
       "    <tr>\n",
       "      <th>0</th>\n",
       "      <td>All glory to ukrain, russia will lose the war!</td>\n",
       "      <td>Loosers, lose, defeat</td>\n",
       "      <td>0.579797</td>\n",
       "    </tr>\n",
       "  </tbody>\n",
       "</table>\n",
       "</div>"
      ],
      "text/plain": [
       "                                       sentence_a             sentence_b  \\\n",
       "0  All glory to ukrain, russia will lose the war!  Loosers, lose, defeat   \n",
       "\n",
       "   similarity  \n",
       "0    0.579797  "
      ]
     },
     "execution_count": 5,
     "metadata": {},
     "output_type": "execute_result"
    }
   ],
   "source": [
    "sentences = ['All glory to ukrain, russia will lose the war!', 'Loosers, lose, defeat']\n",
    "embeddings_similarity(sentences=sentences)"
   ]
  },
  {
   "cell_type": "code",
   "execution_count": 8,
   "metadata": {},
   "outputs": [
    {
     "data": {
      "text/html": [
       "<div>\n",
       "<style scoped>\n",
       "    .dataframe tbody tr th:only-of-type {\n",
       "        vertical-align: middle;\n",
       "    }\n",
       "\n",
       "    .dataframe tbody tr th {\n",
       "        vertical-align: top;\n",
       "    }\n",
       "\n",
       "    .dataframe thead th {\n",
       "        text-align: right;\n",
       "    }\n",
       "</style>\n",
       "<table border=\"1\" class=\"dataframe\">\n",
       "  <thead>\n",
       "    <tr style=\"text-align: right;\">\n",
       "      <th></th>\n",
       "      <th>sentence_a</th>\n",
       "      <th>sentence_b</th>\n",
       "      <th>similarity</th>\n",
       "    </tr>\n",
       "  </thead>\n",
       "  <tbody>\n",
       "    <tr>\n",
       "      <th>0</th>\n",
       "      <td>Ukrain will win the war! The people of ukrain ...</td>\n",
       "      <td>The Ukrainian people will resist the russian f...</td>\n",
       "      <td>0.852232</td>\n",
       "    </tr>\n",
       "  </tbody>\n",
       "</table>\n",
       "</div>"
      ],
      "text/plain": [
       "                                          sentence_a  \\\n",
       "0  Ukrain will win the war! The people of ukrain ...   \n",
       "\n",
       "                                          sentence_b  similarity  \n",
       "0  The Ukrainian people will resist the russian f...    0.852232  "
      ]
     },
     "execution_count": 8,
     "metadata": {},
     "output_type": "execute_result"
    }
   ],
   "source": [
    "sentences = [\"Ukrain will win the war! The people of ukrain are strong\", \"The Ukrainian people will resist the russian forces\"]\n",
    "embeddings_similarity(sentences=sentences)"
   ]
  },
  {
   "cell_type": "code",
   "execution_count": 10,
   "metadata": {},
   "outputs": [
    {
     "data": {
      "text/html": [
       "<div>\n",
       "<style scoped>\n",
       "    .dataframe tbody tr th:only-of-type {\n",
       "        vertical-align: middle;\n",
       "    }\n",
       "\n",
       "    .dataframe tbody tr th {\n",
       "        vertical-align: top;\n",
       "    }\n",
       "\n",
       "    .dataframe thead th {\n",
       "        text-align: right;\n",
       "    }\n",
       "</style>\n",
       "<table border=\"1\" class=\"dataframe\">\n",
       "  <thead>\n",
       "    <tr style=\"text-align: right;\">\n",
       "      <th></th>\n",
       "      <th>sentence_a</th>\n",
       "      <th>sentence_b</th>\n",
       "      <th>similarity</th>\n",
       "    </tr>\n",
       "  </thead>\n",
       "  <tbody>\n",
       "    <tr>\n",
       "      <th>0</th>\n",
       "      <td>Ukrain will win the war! The people of ukrain ...</td>\n",
       "      <td>Something unrelated, my favorite animal is a dog</td>\n",
       "      <td>0.631618</td>\n",
       "    </tr>\n",
       "  </tbody>\n",
       "</table>\n",
       "</div>"
      ],
      "text/plain": [
       "                                          sentence_a  \\\n",
       "0  Ukrain will win the war! The people of ukrain ...   \n",
       "\n",
       "                                         sentence_b  similarity  \n",
       "0  Something unrelated, my favorite animal is a dog    0.631618  "
      ]
     },
     "execution_count": 10,
     "metadata": {},
     "output_type": "execute_result"
    }
   ],
   "source": [
    "sentences = [\"Ukrain will win the war! The people of ukrain are strong\", \"Something unrelated, my favorite animal is a dog\"]\n",
    "embeddings_similarity(sentences=sentences)"
   ]
  }
 ],
 "metadata": {
  "interpreter": {
   "hash": "f391a0ed4713b083ff42f4de068d5b8dbeb64e4ce22b9e00860e1cf9b601a667"
  },
  "kernelspec": {
   "display_name": "Python 3.9.7 ('python3.9')",
   "language": "python",
   "name": "python3"
  },
  "language_info": {
   "codemirror_mode": {
    "name": "ipython",
    "version": 3
   },
   "file_extension": ".py",
   "mimetype": "text/x-python",
   "name": "python",
   "nbconvert_exporter": "python",
   "pygments_lexer": "ipython3",
   "version": "3.9.7"
  },
  "orig_nbformat": 4
 },
 "nbformat": 4,
 "nbformat_minor": 2
}
