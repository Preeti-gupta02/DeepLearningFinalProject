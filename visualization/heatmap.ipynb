{
 "cells": [
  {
   "cell_type": "markdown",
   "metadata": {},
   "source": [
    "## Read in data"
   ]
  },
  {
   "cell_type": "code",
   "execution_count": 30,
   "metadata": {},
   "outputs": [],
   "source": [
    "import pandas as pd\n",
    "import numpy as np"
   ]
  },
  {
   "cell_type": "code",
   "execution_count": 31,
   "metadata": {},
   "outputs": [],
   "source": [
    "df = pd.read_csv('../df_labeled.csv')"
   ]
  },
  {
   "cell_type": "code",
   "execution_count": 32,
   "metadata": {},
   "outputs": [
    {
     "name": "stdout",
     "output_type": "stream",
     "text": [
      "Total null location values: 20855\n",
      "Total values: 41902\n"
     ]
    }
   ],
   "source": [
    "print(f\"Total null location values: {len(df[df['location'].isnull()])}\")\n",
    "print(f\"Total values: {len(df)}\")"
   ]
  },
  {
   "cell_type": "code",
   "execution_count": 33,
   "metadata": {},
   "outputs": [],
   "source": [
    "df_clean = df[df['location'].notnull()]"
   ]
  },
  {
   "cell_type": "code",
   "execution_count": 34,
   "metadata": {},
   "outputs": [
    {
     "name": "stdout",
     "output_type": "stream",
     "text": [
      "<class 'pandas.core.frame.DataFrame'>\n",
      "Int64Index: 21047 entries, 3 to 41899\n",
      "Data columns (total 7 columns):\n",
      " #   Column           Non-Null Count  Dtype  \n",
      "---  ------           --------------  -----  \n",
      " 0   Unnamed: 0       21047 non-null  int64  \n",
      " 1   text             21047 non-null  object \n",
      " 2   userid           21047 non-null  float64\n",
      " 3   location         21047 non-null  object \n",
      " 4   coordinates      15 non-null     object \n",
      " 5   translated_text  21047 non-null  object \n",
      " 6   label            21047 non-null  float64\n",
      "dtypes: float64(2), int64(1), object(4)\n",
      "memory usage: 1.3+ MB\n"
     ]
    }
   ],
   "source": [
    "df_clean.info()"
   ]
  },
  {
   "cell_type": "code",
   "execution_count": 35,
   "metadata": {},
   "outputs": [],
   "source": [
    "# map locations with latitude and longitude\n",
    "unique_locations = df_clean['location'].unique()"
   ]
  },
  {
   "cell_type": "code",
   "execution_count": 78,
   "metadata": {},
   "outputs": [],
   "source": [
    "import requests\n",
    "from dotenv import load_dotenv\n",
    "load_dotenv()\n",
    "import os\n",
    "from urllib.parse import urlencode\n",
    "from requests.adapters import HTTPAdapter\n",
    "from requests.packages.urllib3.util.retry import Retry\n",
    "\n",
    "non_valid_locations = []\n",
    "\n",
    "retry_strat = Retry(total=3, backoff_factor=0.5)\n",
    "adapter = HTTPAdapter(max_retries=retry_strat)\n",
    "http = requests.Session()\n",
    "http.mount(\"https://\", adapter=adapter)\n",
    "\n",
    "def extract_lat_lng(location, data_type= 'json'):\n",
    "    base_url = f\"https://maps.googleapis.com/maps/api/geocode/{data_type}\"\n",
    "    params = {\n",
    "        \"address\": location,\n",
    "        \"key\": os.environ['API_KEY']\n",
    "    }\n",
    "    url_params = urlencode(params)\n",
    "    url =f\"{base_url}?{url_params}\"\n",
    "    r = http.get(url)\n",
    "\n",
    "    if r.status_code not in range(200, 299) or r.json()['status'] == \"ZERO_RESULTS\":\n",
    "        non_valid_locations.append(location)\n",
    "        return {}\n",
    "\n",
    "    return r.json()['results'][0]['geometry']['location']"
   ]
  },
  {
   "cell_type": "code",
   "execution_count": 79,
   "metadata": {},
   "outputs": [
    {
     "name": "stdout",
     "output_type": "stream",
     "text": [
      "48.379433\n",
      "31.16558\n"
     ]
    }
   ],
   "source": [
    "# testing API call to geocoder\n",
    "r = extract_lat_lng('ukrain')\n",
    "lat, lon = r.values()\n",
    "print(lat)\n",
    "print(lon)"
   ]
  },
  {
   "cell_type": "code",
   "execution_count": 71,
   "metadata": {},
   "outputs": [
    {
     "data": {
      "text/plain": [
       "48.379433"
      ]
     },
     "execution_count": 71,
     "metadata": {},
     "output_type": "execute_result"
    }
   ],
   "source": [
    "string = 'Ukrain'\n",
    "r = extract_lat_lng(string)\n",
    "lat, lon = r.values()\n",
    "lat"
   ]
  },
  {
   "cell_type": "code",
   "execution_count": 80,
   "metadata": {},
   "outputs": [
    {
     "name": "stderr",
     "output_type": "stream",
     "text": [
      "100%|██████████| 5643/5643 [11:15<00:00,  8.36it/s]\n"
     ]
    }
   ],
   "source": [
    "# iterate through locations and get lat/lon\n",
    "from tqdm import tqdm\n",
    "\n",
    "location_map = {}\n",
    "for location in tqdm(unique_locations):\n",
    "    res = extract_lat_lng(location=location)\n",
    "    if not res:\n",
    "        continue\n",
    "    lat, lon = res.values()\n",
    "    location_map[location] = (lat, lon)\n"
   ]
  },
  {
   "cell_type": "code",
   "execution_count": 82,
   "metadata": {},
   "outputs": [],
   "source": []
  },
  {
   "cell_type": "code",
   "execution_count": 87,
   "metadata": {},
   "outputs": [],
   "source": [
    "dict_pre = {}\n",
    "dict_pre['name'] =  []\n",
    "dict_pre['lat'] =  []\n",
    "dict_pre['lon'] =  []\n",
    "for key, val in location_map.items():\n",
    "    dict_pre['name'].append(key)\n",
    "    dict_pre['lat'].append(val[0])\n",
    "    dict_pre['lon'].append(val[1])"
   ]
  },
  {
   "cell_type": "code",
   "execution_count": 93,
   "metadata": {},
   "outputs": [],
   "source": [
    "locations_with_lat_and_long = pd.DataFrame(dict_pre)\n",
    "weird_locations = pd.DataFrame(non_valid_locations, columns=['name'])"
   ]
  },
  {
   "cell_type": "code",
   "execution_count": 97,
   "metadata": {},
   "outputs": [],
   "source": [
    "locations_with_lat_and_long.to_csv(\"../locations_lat_lon.csv.gz\", compression='gzip')\n",
    "weird_locations.to_csv('../weird_locations.csv.gz', compression='gzip')"
   ]
  }
 ],
 "metadata": {
  "interpreter": {
   "hash": "f391a0ed4713b083ff42f4de068d5b8dbeb64e4ce22b9e00860e1cf9b601a667"
  },
  "kernelspec": {
   "display_name": "Python 3.9.7 ('python3.9')",
   "language": "python",
   "name": "python3"
  },
  "language_info": {
   "codemirror_mode": {
    "name": "ipython",
    "version": 3
   },
   "file_extension": ".py",
   "mimetype": "text/x-python",
   "name": "python",
   "nbconvert_exporter": "python",
   "pygments_lexer": "ipython3",
   "version": "3.9.7"
  },
  "orig_nbformat": 4
 },
 "nbformat": 4,
 "nbformat_minor": 2
}
