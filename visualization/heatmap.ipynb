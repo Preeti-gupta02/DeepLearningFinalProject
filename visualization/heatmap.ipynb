{
 "cells": [
  {
   "cell_type": "markdown",
   "metadata": {},
   "source": [
    "## Read in data"
   ]
  },
  {
   "cell_type": "code",
   "execution_count": 2,
   "metadata": {},
   "outputs": [],
   "source": [
    "import pandas as pd\n",
    "import numpy as np"
   ]
  },
  {
   "cell_type": "code",
   "execution_count": 8,
   "metadata": {},
   "outputs": [],
   "source": [
    "df = pd.read_csv('../df_labeled.csv')"
   ]
  },
  {
   "cell_type": "code",
   "execution_count": 9,
   "metadata": {},
   "outputs": [
    {
     "name": "stdout",
     "output_type": "stream",
     "text": [
      "Total null location values: 20855\n",
      "Total values: 41902\n"
     ]
    }
   ],
   "source": [
    "print(f\"Total null location values: {len(df[df['location'].isnull()])}\")\n",
    "print(f\"Total values: {len(df)}\")"
   ]
  },
  {
   "cell_type": "code",
   "execution_count": 10,
   "metadata": {},
   "outputs": [],
   "source": [
    "df_clean = df[df['location'].notnull()]"
   ]
  },
  {
   "cell_type": "code",
   "execution_count": 11,
   "metadata": {},
   "outputs": [
    {
     "name": "stdout",
     "output_type": "stream",
     "text": [
      "<class 'pandas.core.frame.DataFrame'>\n",
      "Int64Index: 21047 entries, 3 to 41899\n",
      "Data columns (total 7 columns):\n",
      " #   Column           Non-Null Count  Dtype  \n",
      "---  ------           --------------  -----  \n",
      " 0   Unnamed: 0       21047 non-null  int64  \n",
      " 1   text             21047 non-null  object \n",
      " 2   userid           21047 non-null  float64\n",
      " 3   location         21047 non-null  object \n",
      " 4   coordinates      15 non-null     object \n",
      " 5   translated_text  21047 non-null  object \n",
      " 6   label            21047 non-null  float64\n",
      "dtypes: float64(2), int64(1), object(4)\n",
      "memory usage: 1.3+ MB\n"
     ]
    }
   ],
   "source": [
    "df_clean.info()"
   ]
  },
  {
   "cell_type": "code",
   "execution_count": 6,
   "metadata": {},
   "outputs": [],
   "source": [
    "# map locations with latitude and longitude\n",
    "unique_locations = df_clean['location'].unique()"
   ]
  },
  {
   "cell_type": "code",
   "execution_count": 9,
   "metadata": {},
   "outputs": [],
   "source": [
    "import requests\n",
    "from dotenv import load_dotenv\n",
    "load_dotenv()\n",
    "import os\n",
    "from urllib.parse import urlencode\n",
    "from requests.adapters import HTTPAdapter\n",
    "from requests.packages.urllib3.util.retry import Retry\n",
    "\n",
    "non_valid_locations = []\n",
    "\n",
    "retry_strat = Retry(total=3, backoff_factor=0.5)\n",
    "adapter = HTTPAdapter(max_retries=retry_strat)\n",
    "http = requests.Session()\n",
    "http.mount(\"https://\", adapter=adapter)\n",
    "\n",
    "def extract_lat_lng(location, data_type= 'json'):\n",
    "    base_url = f\"https://maps.googleapis.com/maps/api/geocode/{data_type}\"\n",
    "    params = {\n",
    "        \"address\": location,\n",
    "        \"key\": os.environ['API_KEY']\n",
    "    }\n",
    "    url_params = urlencode(params)\n",
    "    url =f\"{base_url}?{url_params}\"\n",
    "    r = http.get(url)\n",
    "\n",
    "    if r.status_code not in range(200, 299) or r.json()['status'] == \"ZERO_RESULTS\":\n",
    "        non_valid_locations.append(location)\n",
    "        return {}\n",
    "\n",
    "    return r.json()['results'][0]['geometry']['location']"
   ]
  },
  {
   "cell_type": "code",
   "execution_count": 10,
   "metadata": {},
   "outputs": [
    {
     "ename": "KeyError",
     "evalue": "'API_KEY'",
     "output_type": "error",
     "traceback": [
      "\u001b[1;31m---------------------------------------------------------------------------\u001b[0m",
      "\u001b[1;31mKeyError\u001b[0m                                  Traceback (most recent call last)",
      "\u001b[1;32mc:\\Users\\Garrett\\VSCode\\DeepLearningFinalProject-2\\visualization\\heatmap.ipynb Cell 9'\u001b[0m in \u001b[0;36m<cell line: 2>\u001b[1;34m()\u001b[0m\n\u001b[0;32m      <a href='vscode-notebook-cell:/c%3A/Users/Garrett/VSCode/DeepLearningFinalProject-2/visualization/heatmap.ipynb#ch0000008?line=0'>1</a>\u001b[0m \u001b[39m# testing API call to geocoder\u001b[39;00m\n\u001b[1;32m----> <a href='vscode-notebook-cell:/c%3A/Users/Garrett/VSCode/DeepLearningFinalProject-2/visualization/heatmap.ipynb#ch0000008?line=1'>2</a>\u001b[0m r \u001b[39m=\u001b[39m extract_lat_lng(\u001b[39m'\u001b[39;49m\u001b[39mukrain\u001b[39;49m\u001b[39m'\u001b[39;49m)\n\u001b[0;32m      <a href='vscode-notebook-cell:/c%3A/Users/Garrett/VSCode/DeepLearningFinalProject-2/visualization/heatmap.ipynb#ch0000008?line=2'>3</a>\u001b[0m lat, lon \u001b[39m=\u001b[39m r\u001b[39m.\u001b[39mvalues()\n\u001b[0;32m      <a href='vscode-notebook-cell:/c%3A/Users/Garrett/VSCode/DeepLearningFinalProject-2/visualization/heatmap.ipynb#ch0000008?line=3'>4</a>\u001b[0m \u001b[39mprint\u001b[39m(lat)\n",
      "\u001b[1;32mc:\\Users\\Garrett\\VSCode\\DeepLearningFinalProject-2\\visualization\\heatmap.ipynb Cell 8'\u001b[0m in \u001b[0;36mextract_lat_lng\u001b[1;34m(location, data_type)\u001b[0m\n\u001b[0;32m     <a href='vscode-notebook-cell:/c%3A/Users/Garrett/VSCode/DeepLearningFinalProject-2/visualization/heatmap.ipynb#ch0000007?line=15'>16</a>\u001b[0m \u001b[39mdef\u001b[39;00m \u001b[39mextract_lat_lng\u001b[39m(location, data_type\u001b[39m=\u001b[39m \u001b[39m'\u001b[39m\u001b[39mjson\u001b[39m\u001b[39m'\u001b[39m):\n\u001b[0;32m     <a href='vscode-notebook-cell:/c%3A/Users/Garrett/VSCode/DeepLearningFinalProject-2/visualization/heatmap.ipynb#ch0000007?line=16'>17</a>\u001b[0m     base_url \u001b[39m=\u001b[39m \u001b[39mf\u001b[39m\u001b[39m\"\u001b[39m\u001b[39mhttps://maps.googleapis.com/maps/api/geocode/\u001b[39m\u001b[39m{\u001b[39;00mdata_type\u001b[39m}\u001b[39;00m\u001b[39m\"\u001b[39m\n\u001b[0;32m     <a href='vscode-notebook-cell:/c%3A/Users/Garrett/VSCode/DeepLearningFinalProject-2/visualization/heatmap.ipynb#ch0000007?line=17'>18</a>\u001b[0m     params \u001b[39m=\u001b[39m {\n\u001b[0;32m     <a href='vscode-notebook-cell:/c%3A/Users/Garrett/VSCode/DeepLearningFinalProject-2/visualization/heatmap.ipynb#ch0000007?line=18'>19</a>\u001b[0m         \u001b[39m\"\u001b[39m\u001b[39maddress\u001b[39m\u001b[39m\"\u001b[39m: location,\n\u001b[1;32m---> <a href='vscode-notebook-cell:/c%3A/Users/Garrett/VSCode/DeepLearningFinalProject-2/visualization/heatmap.ipynb#ch0000007?line=19'>20</a>\u001b[0m         \u001b[39m\"\u001b[39m\u001b[39mkey\u001b[39m\u001b[39m\"\u001b[39m: os\u001b[39m.\u001b[39;49menviron[\u001b[39m'\u001b[39;49m\u001b[39mAPI_KEY\u001b[39;49m\u001b[39m'\u001b[39;49m]\n\u001b[0;32m     <a href='vscode-notebook-cell:/c%3A/Users/Garrett/VSCode/DeepLearningFinalProject-2/visualization/heatmap.ipynb#ch0000007?line=20'>21</a>\u001b[0m     }\n\u001b[0;32m     <a href='vscode-notebook-cell:/c%3A/Users/Garrett/VSCode/DeepLearningFinalProject-2/visualization/heatmap.ipynb#ch0000007?line=21'>22</a>\u001b[0m     url_params \u001b[39m=\u001b[39m urlencode(params)\n\u001b[0;32m     <a href='vscode-notebook-cell:/c%3A/Users/Garrett/VSCode/DeepLearningFinalProject-2/visualization/heatmap.ipynb#ch0000007?line=22'>23</a>\u001b[0m     url \u001b[39m=\u001b[39m\u001b[39mf\u001b[39m\u001b[39m\"\u001b[39m\u001b[39m{\u001b[39;00mbase_url\u001b[39m}\u001b[39;00m\u001b[39m?\u001b[39m\u001b[39m{\u001b[39;00murl_params\u001b[39m}\u001b[39;00m\u001b[39m\"\u001b[39m\n",
      "File \u001b[1;32m~\\AppData\\Local\\Programs\\Python\\Python38\\lib\\os.py:675\u001b[0m, in \u001b[0;36m_Environ.__getitem__\u001b[1;34m(self, key)\u001b[0m\n\u001b[0;32m    <a href='file:///c%3A/Users/Garrett/AppData/Local/Programs/Python/Python38/lib/os.py?line=671'>672</a>\u001b[0m     value \u001b[39m=\u001b[39m \u001b[39mself\u001b[39m\u001b[39m.\u001b[39m_data[\u001b[39mself\u001b[39m\u001b[39m.\u001b[39mencodekey(key)]\n\u001b[0;32m    <a href='file:///c%3A/Users/Garrett/AppData/Local/Programs/Python/Python38/lib/os.py?line=672'>673</a>\u001b[0m \u001b[39mexcept\u001b[39;00m \u001b[39mKeyError\u001b[39;00m:\n\u001b[0;32m    <a href='file:///c%3A/Users/Garrett/AppData/Local/Programs/Python/Python38/lib/os.py?line=673'>674</a>\u001b[0m     \u001b[39m# raise KeyError with the original key value\u001b[39;00m\n\u001b[1;32m--> <a href='file:///c%3A/Users/Garrett/AppData/Local/Programs/Python/Python38/lib/os.py?line=674'>675</a>\u001b[0m     \u001b[39mraise\u001b[39;00m \u001b[39mKeyError\u001b[39;00m(key) \u001b[39mfrom\u001b[39;00m \u001b[39mNone\u001b[39m\n\u001b[0;32m    <a href='file:///c%3A/Users/Garrett/AppData/Local/Programs/Python/Python38/lib/os.py?line=675'>676</a>\u001b[0m \u001b[39mreturn\u001b[39;00m \u001b[39mself\u001b[39m\u001b[39m.\u001b[39mdecodevalue(value)\n",
      "\u001b[1;31mKeyError\u001b[0m: 'API_KEY'"
     ]
    }
   ],
   "source": [
    "# testing API call to geocoder\n",
    "r = extract_lat_lng('ukrain')\n",
    "lat, lon = r.values()\n",
    "print(lat)\n",
    "print(lon)"
   ]
  },
  {
   "cell_type": "code",
   "execution_count": 71,
   "metadata": {},
   "outputs": [
    {
     "data": {
      "text/plain": [
       "48.379433"
      ]
     },
     "execution_count": 71,
     "metadata": {},
     "output_type": "execute_result"
    }
   ],
   "source": [
    "string = 'Ukrain'\n",
    "r = extract_lat_lng(string)\n",
    "lat, lon = r.values()\n",
    "lat"
   ]
  },
  {
   "cell_type": "code",
   "execution_count": 80,
   "metadata": {},
   "outputs": [
    {
     "name": "stderr",
     "output_type": "stream",
     "text": [
      "100%|██████████| 5643/5643 [11:15<00:00,  8.36it/s]\n"
     ]
    }
   ],
   "source": [
    "# iterate through locations and get lat/lon\n",
    "from tqdm import tqdm\n",
    "\n",
    "location_map = {}\n",
    "for location in tqdm(unique_locations):\n",
    "    res = extract_lat_lng(location=location)\n",
    "    if not res:\n",
    "        continue\n",
    "    lat, lon = res.values()\n",
    "    location_map[location] = (lat, lon)\n"
   ]
  },
  {
   "cell_type": "code",
   "execution_count": 87,
   "metadata": {},
   "outputs": [],
   "source": [
    "dict_pre = {}\n",
    "dict_pre['name'] =  []\n",
    "dict_pre['lat'] =  []\n",
    "dict_pre['lon'] =  []\n",
    "for key, val in location_map.items():\n",
    "    dict_pre['name'].append(key)\n",
    "    dict_pre['lat'].append(val[0])\n",
    "    dict_pre['lon'].append(val[1])"
   ]
  },
  {
   "cell_type": "code",
   "execution_count": 93,
   "metadata": {},
   "outputs": [],
   "source": [
    "locations_with_lat_and_long = pd.DataFrame(dict_pre)\n",
    "weird_locations = pd.DataFrame(non_valid_locations, columns=['name'])"
   ]
  },
  {
   "cell_type": "code",
   "execution_count": 97,
   "metadata": {},
   "outputs": [],
   "source": [
    "locations_with_lat_and_long.to_csv(\"../locations_lat_lon.csv.gz\", compression='gzip')\n",
    "weird_locations.to_csv('../weird_locations.csv.gz', compression='gzip')"
   ]
  },
  {
   "cell_type": "code",
   "execution_count": 4,
   "metadata": {},
   "outputs": [],
   "source": [
    "dflocationcoords = pd.read_csv('../locations_lat_lon.csv.gz')"
   ]
  },
  {
   "cell_type": "code",
   "execution_count": 5,
   "metadata": {},
   "outputs": [],
   "source": [
    "dflocationcoords =  dflocationcoords.rename(columns = {'name':'location'})\n",
    "dflocationcoords = dflocationcoords.drop(columns=['Unnamed: 0'])"
   ]
  },
  {
   "cell_type": "code",
   "execution_count": 6,
   "metadata": {},
   "outputs": [
    {
     "data": {
      "text/html": [
       "<div>\n",
       "<style scoped>\n",
       "    .dataframe tbody tr th:only-of-type {\n",
       "        vertical-align: middle;\n",
       "    }\n",
       "\n",
       "    .dataframe tbody tr th {\n",
       "        vertical-align: top;\n",
       "    }\n",
       "\n",
       "    .dataframe thead th {\n",
       "        text-align: right;\n",
       "    }\n",
       "</style>\n",
       "<table border=\"1\" class=\"dataframe\">\n",
       "  <thead>\n",
       "    <tr style=\"text-align: right;\">\n",
       "      <th></th>\n",
       "      <th>location</th>\n",
       "      <th>lat</th>\n",
       "      <th>lon</th>\n",
       "    </tr>\n",
       "  </thead>\n",
       "  <tbody>\n",
       "    <tr>\n",
       "      <th>0</th>\n",
       "      <td>Ukraine</td>\n",
       "      <td>48.379433</td>\n",
       "      <td>31.165580</td>\n",
       "    </tr>\n",
       "    <tr>\n",
       "      <th>1</th>\n",
       "      <td>Ottawa, Ontario</td>\n",
       "      <td>45.421530</td>\n",
       "      <td>-75.697193</td>\n",
       "    </tr>\n",
       "    <tr>\n",
       "      <th>2</th>\n",
       "      <td>EU, D, Berlin, SEA</td>\n",
       "      <td>52.520007</td>\n",
       "      <td>13.404954</td>\n",
       "    </tr>\n",
       "    <tr>\n",
       "      <th>3</th>\n",
       "      <td>Uzda, Minsk region</td>\n",
       "      <td>53.465999</td>\n",
       "      <td>27.202858</td>\n",
       "    </tr>\n",
       "    <tr>\n",
       "      <th>4</th>\n",
       "      <td>California, USA</td>\n",
       "      <td>36.778261</td>\n",
       "      <td>-119.417932</td>\n",
       "    </tr>\n",
       "    <tr>\n",
       "      <th>...</th>\n",
       "      <td>...</td>\n",
       "      <td>...</td>\n",
       "      <td>...</td>\n",
       "    </tr>\n",
       "    <tr>\n",
       "      <th>3488</th>\n",
       "      <td>ростов</td>\n",
       "      <td>47.235714</td>\n",
       "      <td>39.701505</td>\n",
       "    </tr>\n",
       "    <tr>\n",
       "      <th>3489</th>\n",
       "      <td>Paris 11ème</td>\n",
       "      <td>48.857808</td>\n",
       "      <td>2.380273</td>\n",
       "    </tr>\n",
       "    <tr>\n",
       "      <th>3490</th>\n",
       "      <td>Amsterdam, NL</td>\n",
       "      <td>52.367573</td>\n",
       "      <td>4.904139</td>\n",
       "    </tr>\n",
       "    <tr>\n",
       "      <th>3491</th>\n",
       "      <td>Vinnitsya, Ukraine</td>\n",
       "      <td>49.233083</td>\n",
       "      <td>28.468217</td>\n",
       "    </tr>\n",
       "    <tr>\n",
       "      <th>3492</th>\n",
       "      <td>Kawasaki Japan</td>\n",
       "      <td>35.530833</td>\n",
       "      <td>139.702912</td>\n",
       "    </tr>\n",
       "  </tbody>\n",
       "</table>\n",
       "<p>3493 rows × 3 columns</p>\n",
       "</div>"
      ],
      "text/plain": [
       "                location        lat         lon\n",
       "0                Ukraine  48.379433   31.165580\n",
       "1        Ottawa, Ontario  45.421530  -75.697193\n",
       "2     EU, D, Berlin, SEA  52.520007   13.404954\n",
       "3     Uzda, Minsk region  53.465999   27.202858\n",
       "4        California, USA  36.778261 -119.417932\n",
       "...                  ...        ...         ...\n",
       "3488              ростов  47.235714   39.701505\n",
       "3489         Paris 11ème  48.857808    2.380273\n",
       "3490       Amsterdam, NL  52.367573    4.904139\n",
       "3491  Vinnitsya, Ukraine  49.233083   28.468217\n",
       "3492      Kawasaki Japan  35.530833  139.702912\n",
       "\n",
       "[3493 rows x 3 columns]"
      ]
     },
     "execution_count": 6,
     "metadata": {},
     "output_type": "execute_result"
    }
   ],
   "source": [
    "dflocationcoords"
   ]
  },
  {
   "cell_type": "code",
   "execution_count": 13,
   "metadata": {},
   "outputs": [],
   "source": [
    "mergedcoords = df_clean.merge(dflocationcoords, on=['location'])\n"
   ]
  },
  {
   "cell_type": "code",
   "execution_count": 14,
   "metadata": {},
   "outputs": [
    {
     "data": {
      "text/html": [
       "<div>\n",
       "<style scoped>\n",
       "    .dataframe tbody tr th:only-of-type {\n",
       "        vertical-align: middle;\n",
       "    }\n",
       "\n",
       "    .dataframe tbody tr th {\n",
       "        vertical-align: top;\n",
       "    }\n",
       "\n",
       "    .dataframe thead th {\n",
       "        text-align: right;\n",
       "    }\n",
       "</style>\n",
       "<table border=\"1\" class=\"dataframe\">\n",
       "  <thead>\n",
       "    <tr style=\"text-align: right;\">\n",
       "      <th></th>\n",
       "      <th>location</th>\n",
       "      <th>label</th>\n",
       "      <th>lat</th>\n",
       "      <th>lon</th>\n",
       "    </tr>\n",
       "  </thead>\n",
       "  <tbody>\n",
       "    <tr>\n",
       "      <th>0</th>\n",
       "      <td>Ukraine</td>\n",
       "      <td>1.0</td>\n",
       "      <td>48.379433</td>\n",
       "      <td>31.165580</td>\n",
       "    </tr>\n",
       "    <tr>\n",
       "      <th>1</th>\n",
       "      <td>Ukraine</td>\n",
       "      <td>1.0</td>\n",
       "      <td>48.379433</td>\n",
       "      <td>31.165580</td>\n",
       "    </tr>\n",
       "    <tr>\n",
       "      <th>2</th>\n",
       "      <td>Ukraine</td>\n",
       "      <td>1.0</td>\n",
       "      <td>48.379433</td>\n",
       "      <td>31.165580</td>\n",
       "    </tr>\n",
       "    <tr>\n",
       "      <th>3</th>\n",
       "      <td>Ukraine</td>\n",
       "      <td>1.0</td>\n",
       "      <td>48.379433</td>\n",
       "      <td>31.165580</td>\n",
       "    </tr>\n",
       "    <tr>\n",
       "      <th>4</th>\n",
       "      <td>Ukraine</td>\n",
       "      <td>1.0</td>\n",
       "      <td>48.379433</td>\n",
       "      <td>31.165580</td>\n",
       "    </tr>\n",
       "    <tr>\n",
       "      <th>...</th>\n",
       "      <td>...</td>\n",
       "      <td>...</td>\n",
       "      <td>...</td>\n",
       "      <td>...</td>\n",
       "    </tr>\n",
       "    <tr>\n",
       "      <th>17171</th>\n",
       "      <td>ростов</td>\n",
       "      <td>0.0</td>\n",
       "      <td>47.235714</td>\n",
       "      <td>39.701505</td>\n",
       "    </tr>\n",
       "    <tr>\n",
       "      <th>17172</th>\n",
       "      <td>Paris 11ème</td>\n",
       "      <td>1.0</td>\n",
       "      <td>48.857808</td>\n",
       "      <td>2.380273</td>\n",
       "    </tr>\n",
       "    <tr>\n",
       "      <th>17173</th>\n",
       "      <td>Amsterdam, NL</td>\n",
       "      <td>1.0</td>\n",
       "      <td>52.367573</td>\n",
       "      <td>4.904139</td>\n",
       "    </tr>\n",
       "    <tr>\n",
       "      <th>17174</th>\n",
       "      <td>Vinnitsya, Ukraine</td>\n",
       "      <td>1.0</td>\n",
       "      <td>49.233083</td>\n",
       "      <td>28.468217</td>\n",
       "    </tr>\n",
       "    <tr>\n",
       "      <th>17175</th>\n",
       "      <td>Kawasaki Japan</td>\n",
       "      <td>1.0</td>\n",
       "      <td>35.530833</td>\n",
       "      <td>139.702912</td>\n",
       "    </tr>\n",
       "  </tbody>\n",
       "</table>\n",
       "<p>17176 rows × 4 columns</p>\n",
       "</div>"
      ],
      "text/plain": [
       "                 location  label        lat         lon\n",
       "0                 Ukraine    1.0  48.379433   31.165580\n",
       "1                 Ukraine    1.0  48.379433   31.165580\n",
       "2                 Ukraine    1.0  48.379433   31.165580\n",
       "3                 Ukraine    1.0  48.379433   31.165580\n",
       "4                 Ukraine    1.0  48.379433   31.165580\n",
       "...                   ...    ...        ...         ...\n",
       "17171              ростов    0.0  47.235714   39.701505\n",
       "17172         Paris 11ème    1.0  48.857808    2.380273\n",
       "17173       Amsterdam, NL    1.0  52.367573    4.904139\n",
       "17174  Vinnitsya, Ukraine    1.0  49.233083   28.468217\n",
       "17175      Kawasaki Japan    1.0  35.530833  139.702912\n",
       "\n",
       "[17176 rows x 4 columns]"
      ]
     },
     "execution_count": 14,
     "metadata": {},
     "output_type": "execute_result"
    }
   ],
   "source": [
    "mergedcoords = mergedcoords.drop(mergedcoords.columns[[0,1,2,4,5]], axis=1)\n",
    "mergedcoords"
   ]
  },
  {
   "cell_type": "code",
   "execution_count": null,
   "metadata": {},
   "outputs": [],
   "source": [
    "mergedcoords.to_csv('../merged_coords.csv.gz', compression='gzip')"
   ]
  }
 ],
 "metadata": {
  "interpreter": {
   "hash": "f391a0ed4713b083ff42f4de068d5b8dbeb64e4ce22b9e00860e1cf9b601a667"
  },
  "kernelspec": {
   "display_name": "Python 3.9.7 ('python3.9')",
   "language": "python",
   "name": "python3"
  },
  "language_info": {
   "codemirror_mode": {
    "name": "ipython",
    "version": 3
   },
   "file_extension": ".py",
   "mimetype": "text/x-python",
   "name": "python",
   "nbconvert_exporter": "python",
   "pygments_lexer": "ipython3",
   "version": "3.9.7"
  },
  "orig_nbformat": 4
 },
 "nbformat": 4,
 "nbformat_minor": 2
}
